{
 "cells": [
  {
   "cell_type": "code",
   "execution_count": null,
   "metadata": {
    "collapsed": true
   },
   "outputs": [],
   "source": [
    "#---------------------------------------------------------------------------------------------\n",
    "#                                    bioc_package names                                        \n",
    "#---------------------------------------------------------------------------------------------\n",
    "#                                                                                             \n",
    "# [MoGene-1_1-st] - - - > mogene11sttranscriptcluster      \n",
    "# [MoGene-1_0-st] - - - > mogene10sttranscriptcluster - - - >  GPL6246\n",
    "#\n",
    "#\n",
    "# Illumina MouseRef-8 v2.0  - - - >  illuminaMousev2  - - - >  GPL6885\n",
    "# Illumina HumanHT-12 V4.0  - - - > illuminaHumanv4  - - - > GPL10558 \n",
    "#\n",
    "# Affy HuGene-U133-Plus-2.0  - - - >  hgu133plus2  - - - >  GPL14877, GPL16311\n",
    "# [HuGene-1_1-st] - - - > hugene11sttranscriptcluster  - - - >  GPL18190\n",
    "# [HuGene-1_0-st] - - - > hugene10sttranscriptcluster - - - > GPL17556\n",
    "# [HuEx-1_0-st] - - - > huex10sttranscriptcluster  - - - >  GPL5188\n",
    "# [Mouse430A_2] - - - > mouse430a2 - - - > GPL8321\n",
    "\n",
    "#Agil 4x44K G4112F - - - > hgug4112a  - - - > GPL6480"
   ]
  },
  {
   "cell_type": "code",
   "execution_count": 47,
   "metadata": {
    "collapsed": true
   },
   "outputs": [],
   "source": [
    "source(\"~/Documents/Batcave/GEO/1-meta/load_affy.R\")\n",
    "source(\"~/Documents/Batcave/GEO/1-meta/load_illum.R\")\n",
    "source(\"~/Documents/Batcave/GEO/1-meta/load_agil.R\")\n",
    "source(\"~/Documents/Batcave/GEO/1-meta/diff_utils.R\")\n",
    "source(\"~/Documents/Batcave/GEO/1-meta/MAMA_utils.R\")\n",
    "source(\"~/Documents/Batcave/GEO/2-cmap/combo_utils.R\")\n",
    "\n",
    "data_dir <- paste(\"~/Documents/Batcave/GEO/1-meta\", \"data\", sep=\"/\")"
   ]
  },
  {
   "cell_type": "markdown",
   "metadata": {},
   "source": [
    "# Combos:"
   ]
  },
  {
   "cell_type": "markdown",
   "metadata": {},
   "source": [
    "### Load Affymetrix:"
   ]
  },
  {
   "cell_type": "code",
   "execution_count": 2,
   "metadata": {
    "collapsed": true
   },
   "outputs": [],
   "source": [
    "#GSE2487, GSE2450, GSE30644 - - > singular\n",
    "\n",
    "affy_names <- c(\"GSE49416\", \"GSE12791\", \"GSE44857\", \"GSE38972\", \"GSE35218\", \"GSE30524\", \n",
    "                \"GSE5681\", \"GSE26599\", \"GSE28646\", \"GSE22445\", \"GSE73906\", \"GSE55624\", \n",
    "                \"GSE66854\", \"GSE66837\", \"GSE35696\", \"GSE7500\", \"GSE57915\", \"GSE54169\", \n",
    "                \"GSE55541\", \"GSE51717\", \"GSE20405\", \"GSE43685\", \"GSE46362\", \"GSE48258\",\n",
    "                \"GSE36572\", \"GSE38663\", \"GSE31683\", \"GSE22025\", \"GSE35230\", \"GSE33562\", \n",
    "                \"GSE33366\", \"GSE16179\", \"GSE26114\", \"GSE28896\", \"GSE27973\", \"GSE22589\",\n",
    "                \"GSE20876\", \"GSE20115\", \"GSE9649\", \"GSE8615\", \"GSE11552\", \"GSE7568\", \n",
    "                \"GSE5054\", \"GSE7035\", \"GSE6960\", \"GSE6914\", \"GSE72359\", \"GSE9988\", \n",
    "                \"GSE14964\", \"GSE17672\", \"GSE28448\", \"GSE71347\")\n",
    "\n",
    "\n",
    "#get_raw_affy(affy_names, data_dir)\n"
   ]
  },
  {
   "cell_type": "code",
   "execution_count": 3,
   "metadata": {
    "collapsed": true
   },
   "outputs": [],
   "source": [
    "#load esets\n",
    "#affy_esets <- load_affy(affy_names, data_dir)\n",
    "\n",
    "#backup\n",
    "#affy_esets_copy <- affy_esets\n",
    "\n",
    "#GSE17672.GPL3921 incomplete\n",
    "#affy_esets$\"GSE17672.GPL3921\" <- NULL\n",
    "\n",
    "#affy_esets <- commonize(affy_esets, \"PROBE\")"
   ]
  },
  {
   "cell_type": "markdown",
   "metadata": {},
   "source": [
    "### Differential Expression:"
   ]
  },
  {
   "cell_type": "code",
   "execution_count": 12,
   "metadata": {
    "collapsed": true
   },
   "outputs": [],
   "source": [
    "#run initial analysis\n",
    "#diff_exprs <- diff_expr(affy_esets, data_dir, \"PROBE\")\n",
    "\n",
    "#reload previous analysis\n",
    "diff_exprs <- load_diff(affy_names, data_dir, probe=T)\n",
    "\n",
    "#backup\n",
    "diff_exprs_copy <- diff_exprs\n",
    "\n",
    "#re-run previous analysis\n",
    "#diff_exprs <- diff_expr(affy_esets, data_dir, \"PROBE\", diff_exprs)"
   ]
  },
  {
   "cell_type": "markdown",
   "metadata": {},
   "source": [
    "### Setup Data:"
   ]
  },
  {
   "cell_type": "code",
   "execution_count": 13,
   "metadata": {
    "collapsed": true
   },
   "outputs": [],
   "source": [
    "#not ind & combo: GSE12791, GSE35218\n",
    "diff_exprs$GSE12791 <- NULL\n",
    "diff_exprs$GSE35218 <- NULL"
   ]
  },
  {
   "cell_type": "code",
   "execution_count": 1,
   "metadata": {
    "collapsed": false
   },
   "outputs": [],
   "source": [
    "combo_data <- readRDS(\"combo_array.rds\")"
   ]
  },
  {
   "cell_type": "code",
   "execution_count": 48,
   "metadata": {
    "collapsed": false
   },
   "outputs": [],
   "source": [
    "combo_data <- setup_combo_data(diff_exprs, combo_data$selections, by=\"probe\")"
   ]
  },
  {
   "cell_type": "code",
   "execution_count": 53,
   "metadata": {
    "collapsed": true
   },
   "outputs": [],
   "source": [
    "saveRDS(combo_data, \"combo_probe.rds\")"
   ]
  }
 ],
 "metadata": {
  "kernelspec": {
   "display_name": "R",
   "language": "R",
   "name": "ir"
  },
  "language_info": {
   "codemirror_mode": "r",
   "file_extension": ".r",
   "mimetype": "text/x-r-source",
   "name": "R",
   "pygments_lexer": "r",
   "version": "3.2.4"
  }
 },
 "nbformat": 4,
 "nbformat_minor": 0
}
