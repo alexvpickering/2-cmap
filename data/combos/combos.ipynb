{
 "cells": [
  {
   "cell_type": "code",
   "execution_count": null,
   "metadata": {
    "collapsed": true
   },
   "outputs": [],
   "source": [
    "#---------------------------------------------------------------------------------------------\n",
    "#                                    bioc_package names                                        \n",
    "#---------------------------------------------------------------------------------------------\n",
    "#                                                                                             \n",
    "# [MoGene-1_1-st] - - - > mogene11sttranscriptcluster      \n",
    "# [MoGene-1_0-st] - - - > mogene10sttranscriptcluster - - - >  GPL6246\n",
    "#\n",
    "#\n",
    "# Illumina MouseRef-8 v2.0  - - - >  illuminaMousev2  - - - >  GPL6885\n",
    "# Illumina HumanHT-12 V4.0  - - - > illuminaHumanv4  - - - > GPL10558 \n",
    "#\n",
    "# Affy HuGene-U133-Plus-2.0  - - - >  hgu133plus2  - - - >  GPL14877, GPL16311\n",
    "# [HuGene-1_1-st] - - - > hugene11sttranscriptcluster  - - - >  GPL18190\n",
    "# [HuGene-1_0-st] - - - > hugene10sttranscriptcluster - - - > GPL17556\n",
    "# [HuEx-1_0-st] - - - > huex10sttranscriptcluster  - - - >  GPL5188\n",
    "# [Mouse430A_2] - - - > mouse430a2 - - - > GPL8321\n",
    "\n",
    "#Agil 4x44K G4112F - - - > hgug4112a  - - - > GPL6480"
   ]
  },
  {
   "cell_type": "code",
   "execution_count": 1,
   "metadata": {
    "collapsed": true
   },
   "outputs": [
    {
     "name": "stderr",
     "output_type": "stream",
     "text": [
      "Loading required package: Biobase\n",
      "Loading required package: BiocGenerics\n",
      "Loading required package: parallel\n",
      "\n",
      "Attaching package: ‘BiocGenerics’\n",
      "\n",
      "The following objects are masked from ‘package:parallel’:\n",
      "\n",
      "    clusterApply, clusterApplyLB, clusterCall, clusterEvalQ,\n",
      "    clusterExport, clusterMap, parApply, parCapply, parLapply,\n",
      "    parLapplyLB, parRapply, parSapply, parSapplyLB\n",
      "\n",
      "The following objects are masked from ‘package:stats’:\n",
      "\n",
      "    IQR, mad, xtabs\n",
      "\n",
      "The following objects are masked from ‘package:base’:\n",
      "\n",
      "    anyDuplicated, append, as.data.frame, as.vector, cbind, colnames,\n",
      "    do.call, duplicated, eval, evalq, Filter, Find, get, grep, grepl,\n",
      "    intersect, is.unsorted, lapply, lengths, Map, mapply, match, mget,\n",
      "    order, paste, pmax, pmax.int, pmin, pmin.int, Position, rank,\n",
      "    rbind, Reduce, rownames, sapply, setdiff, sort, table, tapply,\n",
      "    union, unique, unlist, unsplit\n",
      "\n",
      "Welcome to Bioconductor\n",
      "\n",
      "    Vignettes contain introductory material; view with\n",
      "    'browseVignettes()'. To cite Bioconductor, see\n",
      "    'citation(\"Biobase\")', and for packages 'citation(\"pkgname\")'.\n",
      "\n",
      "Setting options('download.file.method.GEOquery'='auto')\n",
      "Setting options('GEOquery.inmemory.gpl'=FALSE)\n",
      "Loading required package: oligoClasses\n",
      "Welcome to oligoClasses version 1.32.0\n",
      "\n",
      "Attaching package: ‘oligoClasses’\n",
      "\n",
      "The following object is masked from ‘package:affy’:\n",
      "\n",
      "    list.celfiles\n",
      "\n",
      "Loading required package: Biostrings\n",
      "Loading required package: S4Vectors\n",
      "Loading required package: stats4\n",
      "Loading required package: IRanges\n",
      "Loading required package: XVector\n",
      "================================================================================\n",
      "Welcome to oligo version 1.34.2\n",
      "================================================================================\n",
      "\n",
      "Attaching package: ‘oligo’\n",
      "\n",
      "The following objects are masked from ‘package:affy’:\n",
      "\n",
      "    intensity, MAplot, mm, mm<-, mmindex, pm, pm<-, pmindex,\n",
      "    probeNames, rma\n",
      "\n",
      "Warning message:\n",
      "In file(filename, \"r\", encoding = encoding): cannot open file 'load_utils.R': No such file or directory"
     ]
    },
    {
     "ename": "ERROR",
     "evalue": "Error in file(filename, \"r\", encoding = encoding): cannot open the connection\n",
     "output_type": "error",
     "traceback": [
      "Error in file(filename, \"r\", encoding = encoding): cannot open the connection\n"
     ]
    },
    {
     "name": "stderr",
     "output_type": "stream",
     "text": [
      "\n",
      "Attaching package: ‘limma’\n",
      "\n",
      "The following object is masked from ‘package:oligo’:\n",
      "\n",
      "    backgroundCorrect\n",
      "\n",
      "The following object is masked from ‘package:BiocGenerics’:\n",
      "\n",
      "    plotMA\n",
      "\n",
      "Warning message:\n",
      "In file(filename, \"r\", encoding = encoding): cannot open file 'load_utils.R': No such file or directory"
     ]
    },
    {
     "ename": "ERROR",
     "evalue": "Error in file(filename, \"r\", encoding = encoding): cannot open the connection\n",
     "output_type": "error",
     "traceback": [
      "Error in file(filename, \"r\", encoding = encoding): cannot open the connection\n"
     ]
    },
    {
     "name": "stderr",
     "output_type": "stream",
     "text": [
      "Warning message:\n",
      "In file(filename, \"r\", encoding = encoding): cannot open file 'load_utils.R': No such file or directory"
     ]
    },
    {
     "ename": "ERROR",
     "evalue": "Error in file(filename, \"r\", encoding = encoding): cannot open the connection\n",
     "output_type": "error",
     "traceback": [
      "Error in file(filename, \"r\", encoding = encoding): cannot open the connection\n"
     ]
    },
    {
     "name": "stderr",
     "output_type": "stream",
     "text": [
      "\n",
      "Attaching package: ‘dplyr’\n",
      "\n",
      "The following object is masked from ‘package:oligo’:\n",
      "\n",
      "    summarize\n",
      "\n",
      "The following objects are masked from ‘package:Biostrings’:\n",
      "\n",
      "    collapse, intersect, setdiff, setequal, union\n",
      "\n",
      "The following object is masked from ‘package:XVector’:\n",
      "\n",
      "    slice\n",
      "\n",
      "The following objects are masked from ‘package:IRanges’:\n",
      "\n",
      "    collapse, desc, intersect, setdiff, slice, union\n",
      "\n",
      "The following objects are masked from ‘package:S4Vectors’:\n",
      "\n",
      "    intersect, rename, setdiff, union\n",
      "\n",
      "The following object is masked from ‘package:Biobase’:\n",
      "\n",
      "    combine\n",
      "\n",
      "The following objects are masked from ‘package:BiocGenerics’:\n",
      "\n",
      "    combine, intersect, setdiff, union\n",
      "\n",
      "The following objects are masked from ‘package:stats’:\n",
      "\n",
      "    filter, lag\n",
      "\n",
      "The following objects are masked from ‘package:base’:\n",
      "\n",
      "    intersect, setdiff, setequal, union\n",
      "\n",
      "matrixStats v0.50.1 (2015-12-14) successfully loaded. See ?matrixStats for help.\n",
      "\n",
      "Attaching package: ‘matrixStats’\n",
      "\n",
      "The following object is masked from ‘package:dplyr’:\n",
      "\n",
      "    count\n",
      "\n",
      "The following objects are masked from ‘package:Biobase’:\n",
      "\n",
      "    anyMissing, rowMedians\n",
      "\n",
      "Loading required package: mgcv\n",
      "Loading required package: nlme\n",
      "\n",
      "Attaching package: ‘nlme’\n",
      "\n",
      "The following object is masked from ‘package:dplyr’:\n",
      "\n",
      "    collapse\n",
      "\n",
      "The following object is masked from ‘package:Biostrings’:\n",
      "\n",
      "    collapse\n",
      "\n",
      "The following object is masked from ‘package:IRanges’:\n",
      "\n",
      "    collapse\n",
      "\n",
      "This is mgcv 1.8-12. For overview type 'help(\"mgcv-package\")'.\n",
      "Loading required package: genefilter\n",
      "\n",
      "Attaching package: ‘genefilter’\n",
      "\n",
      "The following objects are masked from ‘package:matrixStats’:\n",
      "\n",
      "    rowSds, rowVars\n",
      "\n",
      "The following object is masked from ‘package:base’:\n",
      "\n",
      "    anyNA\n",
      "\n",
      "Loading required package: RSQLite\n",
      "Loading required package: DBI\n",
      "Loading required package: AnnotationDbi\n",
      "\n",
      "Attaching package: ‘AnnotationDbi’\n",
      "\n",
      "The following object is masked from ‘package:dplyr’:\n",
      "\n",
      "    select\n",
      "\n",
      "Loading required package: XML\n",
      "Loading required package: metaMA\n",
      "\n",
      "Attaching package: ‘metaMA’\n",
      "\n",
      "The following object is masked from ‘package:genefilter’:\n",
      "\n",
      "    rowVars\n",
      "\n",
      "The following object is masked from ‘package:matrixStats’:\n",
      "\n",
      "    rowVars\n",
      "\n",
      "Loading required package: xtable\n",
      "Loading required package: multtest\n",
      "Loading required package: gtools\n",
      "\n",
      "Attaching package: ‘gtools’\n",
      "\n",
      "The following object is masked from ‘package:mgcv’:\n",
      "\n",
      "    scat\n",
      "\n",
      "Loading required package: grid\n",
      "Loading required package: GeneMeta\n",
      "\n",
      "Attaching package: ‘MAMA’\n",
      "\n",
      "The following objects are masked from ‘package:GeneMeta’:\n",
      "\n",
      "    multExpFDR, zScoreFDR, zScorePermuted, zScores\n",
      "\n",
      "Loading required package: futile.logger\n",
      "\n",
      "Attaching package: ‘futile.logger’\n",
      "\n",
      "The following object is masked from ‘package:gtools’:\n",
      "\n",
      "    scat\n",
      "\n",
      "The following object is masked from ‘package:mgcv’:\n",
      "\n",
      "    scat\n",
      "\n",
      "Loading required package: PGSEA\n",
      "Loading required package: GO.db\n",
      "\n",
      "Loading required package: KEGG.db\n",
      "\n",
      "KEGG.db contains mappings based on older data because the original\n",
      "  resource was removed from the the public domain before the most\n",
      "  recent update was produced. This package should now be considered\n",
      "  deprecated and future versions of Bioconductor may not have it\n",
      "  available.  Users who want more current data are encouraged to look\n",
      "  at the KEGGREST or reactome.db packages\n",
      "\n",
      "Loading required package: annaffy\n"
     ]
    }
   ],
   "source": [
    "source(\"~/Documents/Batcave/GEO/1-meta/load_affy.R\")\n",
    "source(\"~/Documents/Batcave/GEO/1-meta/load_illum.R\")\n",
    "source(\"~/Documents/Batcave/GEO/1-meta/load_agil.R\")\n",
    "source(\"~/Documents/Batcave/GEO/1-meta/diff_utils.R\")\n",
    "source(\"~/Documents/Batcave/GEO/1-meta/MAMA_utils.R\")\n",
    "source(\"~/Documents/Batcave/GEO/2-cmap/combo_utils.R\")\n",
    "\n",
    "data_dir <- paste(\"~/Documents/Batcave/GEO/1-meta\", \"data\", sep=\"/\")"
   ]
  },
  {
   "cell_type": "markdown",
   "metadata": {},
   "source": [
    "# Combos:"
   ]
  },
  {
   "cell_type": "markdown",
   "metadata": {},
   "source": [
    "### Load Affymetrix:"
   ]
  },
  {
   "cell_type": "code",
   "execution_count": 2,
   "metadata": {
    "collapsed": true
   },
   "outputs": [],
   "source": [
    "#GSE2487, GSE2450, GSE30644 - - > singular\n",
    "\n",
    "affy_names <- c(\"GSE49416\", \"GSE12791\", \"GSE44857\", \"GSE38972\", \"GSE35218\", \"GSE30524\", \n",
    "                \"GSE5681\", \"GSE26599\", \"GSE28646\", \"GSE22445\", \"GSE73906\", \"GSE55624\", \n",
    "                \"GSE66854\", \"GSE66837\", \"GSE35696\", \"GSE7500\", \"GSE57915\", \"GSE54169\", \n",
    "                \"GSE55541\", \"GSE51717\", \"GSE20405\", \"GSE43685\", \"GSE46362\", \"GSE48258\",\n",
    "                \"GSE36572\", \"GSE38663\", \"GSE31683\", \"GSE22025\", \"GSE35230\", \"GSE33562\", \n",
    "                \"GSE33366\", \"GSE16179\", \"GSE26114\", \"GSE28896\", \"GSE27973\", \"GSE22589\",\n",
    "                \"GSE20876\", \"GSE20115\", \"GSE9649\", \"GSE8615\", \"GSE11552\", \"GSE7568\", \n",
    "                \"GSE5054\", \"GSE7035\", \"GSE6960\", \"GSE6914\", \"GSE72359\", \"GSE9988\", \n",
    "                \"GSE14964\", \"GSE17672\", \"GSE28448\", \"GSE71347\")\n",
    "\n",
    "\n",
    "#get_raw_affy(affy_names, data_dir)\n"
   ]
  },
  {
   "cell_type": "code",
   "execution_count": 3,
   "metadata": {
    "collapsed": true
   },
   "outputs": [],
   "source": [
    "#load esets\n",
    "#affy_esets <- load_affy(affy_names, data_dir)\n",
    "\n",
    "#backup\n",
    "#affy_esets_copy <- affy_esets\n",
    "\n",
    "#GSE17672.GPL3921 incomplete\n",
    "#affy_esets$\"GSE17672.GPL3921\" <- NULL\n",
    "\n",
    "#affy_esets <- commonize(affy_esets, \"PROBE\")"
   ]
  },
  {
   "cell_type": "markdown",
   "metadata": {},
   "source": [
    "### Differential Expression:"
   ]
  },
  {
   "cell_type": "code",
   "execution_count": 24,
   "metadata": {
    "collapsed": true
   },
   "outputs": [],
   "source": [
    "#run initial analysis\n",
    "#diff_exprs <- diff_expr(affy_esets, data_dir, \"PROBE\")\n",
    "\n",
    "#reload previous analysis\n",
    "diff_exprs <- load_diff(affy_names, data_dir, probe=T)\n",
    "\n",
    "#backup\n",
    "diff_exprs_copy <- diff_exprs\n",
    "\n",
    "#re-run previous analysis\n",
    "#diff_exprs <- diff_expr(affy_esets, data_dir, \"PROBE\", diff_exprs)"
   ]
  },
  {
   "cell_type": "markdown",
   "metadata": {},
   "source": [
    "### Setup Data:"
   ]
  },
  {
   "cell_type": "code",
   "execution_count": 13,
   "metadata": {
    "collapsed": true
   },
   "outputs": [],
   "source": [
    "#not ind & combo: GSE12791, GSE35218\n",
    "diff_exprs$GSE12791 <- NULL\n",
    "diff_exprs$GSE35218 <- NULL"
   ]
  },
  {
   "cell_type": "code",
   "execution_count": 1,
   "metadata": {
    "collapsed": false
   },
   "outputs": [],
   "source": [
    "combo_data <- readRDS(\"combo_probe.rds\")"
   ]
  },
  {
   "cell_type": "code",
   "execution_count": 48,
   "metadata": {
    "collapsed": false
   },
   "outputs": [],
   "source": [
    "combo_data <- setup_combo_data(diff_exprs, combo_data$selections, by=\"probe\")"
   ]
  },
  {
   "cell_type": "code",
   "execution_count": 53,
   "metadata": {
    "collapsed": true
   },
   "outputs": [],
   "source": [
    "saveRDS(combo_data, \"combo_probe.rds\")"
   ]
  }
 ],
 "metadata": {
  "kernelspec": {
   "display_name": "R",
   "language": "R",
   "name": "ir"
  },
  "language_info": {
   "codemirror_mode": "r",
   "file_extension": ".r",
   "mimetype": "text/x-r-source",
   "name": "R",
   "pygments_lexer": "r",
   "version": "3.2.4"
  }
 },
 "nbformat": 4,
 "nbformat_minor": 0
}
